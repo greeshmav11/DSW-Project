{
 "cells": [
  {
   "cell_type": "code",
   "execution_count": null,
   "id": "52238c4f",
   "metadata": {},
   "outputs": [
    {
     "name": "stdout",
     "output_type": "stream",
     "text": [
      "Collecting scikeras\n",
      "  Downloading scikeras-0.13.0-py3-none-any.whl.metadata (3.1 kB)\n",
      "Requirement already satisfied: keras>=3.2.0 in c:\\users\\h_ale\\anaconda3\\envs\\cv\\lib\\site-packages (from scikeras) (3.10.0)\n",
      "Requirement already satisfied: scikit-learn>=1.4.2 in c:\\users\\h_ale\\anaconda3\\envs\\cv\\lib\\site-packages (from scikeras) (1.5.1)\n",
      "Requirement already satisfied: absl-py in c:\\users\\h_ale\\anaconda3\\envs\\cv\\lib\\site-packages (from keras>=3.2.0->scikeras) (2.3.1)\n",
      "Requirement already satisfied: numpy in c:\\users\\h_ale\\anaconda3\\envs\\cv\\lib\\site-packages (from keras>=3.2.0->scikeras) (1.26.4)\n",
      "Requirement already satisfied: rich in c:\\users\\h_ale\\anaconda3\\envs\\cv\\lib\\site-packages (from keras>=3.2.0->scikeras) (14.0.0)\n",
      "Requirement already satisfied: namex in c:\\users\\h_ale\\anaconda3\\envs\\cv\\lib\\site-packages (from keras>=3.2.0->scikeras) (0.1.0)\n",
      "Requirement already satisfied: h5py in c:\\users\\h_ale\\anaconda3\\envs\\cv\\lib\\site-packages (from keras>=3.2.0->scikeras) (3.14.0)\n",
      "Requirement already satisfied: optree in c:\\users\\h_ale\\anaconda3\\envs\\cv\\lib\\site-packages (from keras>=3.2.0->scikeras) (0.16.0)\n",
      "Requirement already satisfied: ml-dtypes in c:\\users\\h_ale\\anaconda3\\envs\\cv\\lib\\site-packages (from keras>=3.2.0->scikeras) (0.5.1)\n",
      "Requirement already satisfied: packaging in c:\\users\\h_ale\\anaconda3\\envs\\cv\\lib\\site-packages (from keras>=3.2.0->scikeras) (24.1)\n",
      "Requirement already satisfied: scipy>=1.6.0 in c:\\users\\h_ale\\anaconda3\\envs\\cv\\lib\\site-packages (from scikit-learn>=1.4.2->scikeras) (1.13.1)\n",
      "Requirement already satisfied: joblib>=1.2.0 in c:\\users\\h_ale\\anaconda3\\envs\\cv\\lib\\site-packages (from scikit-learn>=1.4.2->scikeras) (1.4.2)\n",
      "Requirement already satisfied: threadpoolctl>=3.1.0 in c:\\users\\h_ale\\anaconda3\\envs\\cv\\lib\\site-packages (from scikit-learn>=1.4.2->scikeras) (3.5.0)\n",
      "Requirement already satisfied: typing-extensions>=4.6.0 in c:\\users\\h_ale\\anaconda3\\envs\\cv\\lib\\site-packages (from optree->keras>=3.2.0->scikeras) (4.11.0)\n",
      "Requirement already satisfied: markdown-it-py>=2.2.0 in c:\\users\\h_ale\\anaconda3\\envs\\cv\\lib\\site-packages (from rich->keras>=3.2.0->scikeras) (3.0.0)\n",
      "Requirement already satisfied: pygments<3.0.0,>=2.13.0 in c:\\users\\h_ale\\anaconda3\\envs\\cv\\lib\\site-packages (from rich->keras>=3.2.0->scikeras) (2.19.2)\n",
      "Requirement already satisfied: mdurl~=0.1 in c:\\users\\h_ale\\anaconda3\\envs\\cv\\lib\\site-packages (from markdown-it-py>=2.2.0->rich->keras>=3.2.0->scikeras) (0.1.2)\n",
      "Downloading scikeras-0.13.0-py3-none-any.whl (26 kB)\n",
      "Installing collected packages: scikeras\n",
      "Successfully installed scikeras-0.13.0\n"
     ]
    }
   ],
   "source": [
    "# !pip install pandas\n",
    "# !pip install tensorflow\n",
    "# !pip install scikeras"
   ]
  },
  {
   "cell_type": "code",
   "execution_count": 3,
   "id": "7fd30c47",
   "metadata": {},
   "outputs": [],
   "source": [
    "import pandas as pd             \n",
    "import numpy as np\n",
    "from sklearn.model_selection import train_test_split\n",
    "from sklearn.preprocessing import LabelEncoder\n",
    "from tensorflow.keras.preprocessing.text import Tokenizer\n",
    "from tensorflow.keras.preprocessing.sequence import pad_sequences\n",
    "from tensorflow.keras.models import Model\n",
    "from tensorflow.keras.layers import Input, Embedding, Dense, GlobalAveragePooling1D, Concatenate, Dropout\n",
    "from tensorflow.keras.utils import to_categorical\n",
    "from tensorflow.keras.optimizers import Adam\n",
    "from scikeras.wrappers import KerasClassifier\n",
    "from sklearn.model_selection import GridSearchCV\n",
    "from tensorflow.keras.models import Sequential\n",
    "from sklearn.metrics import accuracy_score"
   ]
  },
  {
   "cell_type": "code",
   "execution_count": null,
   "id": "3abf91e8",
   "metadata": {},
   "outputs": [],
   "source": [
    "# Step 1: Load the dataset\n",
    "df = pd.read_csv(\"../data/cleaned_reddit_posts.csv\")"
   ]
  },
  {
   "cell_type": "code",
   "execution_count": 5,
   "id": "43e5f616",
   "metadata": {},
   "outputs": [
    {
     "name": "stdout",
     "output_type": "stream",
     "text": [
      "popularity_bucket\n",
      "high      3415\n",
      "low       3316\n",
      "medium    3316\n",
      "Name: count, dtype: int64\n"
     ]
    }
   ],
   "source": [
    "# Show how many entries fall into each popularity bucket to understand class balance\n",
    "print(df[\"popularity_bucket\"].value_counts())"
   ]
  },
  {
   "cell_type": "code",
   "execution_count": 6,
   "id": "45f1313f",
   "metadata": {},
   "outputs": [],
   "source": [
    "# Step 2: Drop unneeded columns\n",
    "df = df.drop(columns=[\"id\", \"author\", \"score\", \"num_comments\", \"upvote_ratio\"])"
   ]
  },
  {
   "cell_type": "code",
   "execution_count": null,
   "id": "1e31a483",
   "metadata": {},
   "outputs": [],
   "source": [
    "# Step 3: Encode labels (popularity_bucket)\n",
    "label_encoder = LabelEncoder()\n",
    "df[\"label\"] = label_encoder.fit_transform(df[\"popularity_bucket\"])\n",
    "y = to_categorical(df[\"label\"])"
   ]
  },
  {
   "cell_type": "code",
   "execution_count": null,
   "id": "abde45bb",
   "metadata": {},
   "outputs": [],
   "source": [
    "# Step 4: Encode categorical features\n",
    "cat_features = [\"subreddit\", \"flair\", \"media_type\"]\n",
    "encoded_features = []\n",
    "\n",
    "for col in cat_features:\n",
    "    le = LabelEncoder()\n",
    "    df[col] = df[col].fillna(\"unknown\")\n",
    "    encoded = le.fit_transform(df[col])\n",
    "    encoded_features.append(encoded)\n",
    "\n",
    "# Add binary features\n",
    "encoded_features.append(df[\"is_self\"].astype(int))\n",
    "encoded_features.append(df[\"nsfw\"].astype(int))\n",
    "encoded_features.append(df[\"created_hour\"].fillna(0).astype(int))\n",
    "\n",
    "# Final non-text input\n",
    "X = np.stack(encoded_features, axis=1) "
   ]
  },
  {
   "cell_type": "code",
   "execution_count": null,
   "id": "b9e2ef64",
   "metadata": {},
   "outputs": [],
   "source": [
    "# Step 7: Build the model\n",
    "def create_model(dropout_rate=0.3):\n",
    "    model = Sequential()\n",
    "    model.add(Input(shape=(X.shape[1],)))  \n",
    "    model.add(Dense(256, activation='relu'))  #128    \n",
    "    model.add(Dropout(dropout_rate))\n",
    "    model.add(Dense(128, activation='relu'))  #64   \n",
    "    model.add(Dropout(dropout_rate))\n",
    "    model.add(Dense(64, activation='relu'))\n",
    "    model.add(Dropout(dropout_rate))\n",
    "\n",
    "    model.add(Dense(3, activation='softmax'))\n",
    "    \n",
    "    optimizer = Adam(learning_rate=0.001)\n",
    "    model.compile(loss='categorical_crossentropy', optimizer=optimizer, metrics=['accuracy'])\n",
    "    return model"
   ]
  },
  {
   "cell_type": "code",
   "execution_count": 17,
   "id": "8dce4197",
   "metadata": {},
   "outputs": [
    {
     "name": "stdout",
     "output_type": "stream",
     "text": [
      "Type of X_train: <class 'numpy.ndarray'>\n",
      "X_train shape: (8037, 6)\n",
      "X_train[0] shape: (6,)\n",
      "Best params: {'batch_size': 16, 'epochs': 20, 'model__dropout_rate': 0.3}\n",
      "Best accuracy: 0.5679\n",
      "Test accuracy: 0.5647\n"
     ]
    }
   ],
   "source": [
    "# Step 8: Compile and train\n",
    "# Split into train and test sets\n",
    "X_train, X_test, y_train, y_test = train_test_split(X, y, test_size=0.2, random_state=42)\n",
    "\n",
    "print(\"Type of X_train:\", type(X_train))\n",
    "print(\"X_train shape:\", X_train.shape)\n",
    "print(\"X_train[0] shape:\", np.array(X_train[0]).shape)\n",
    "\n",
    "# Wrap model for GridSearch\n",
    "model = KerasClassifier(model=create_model, verbose=0)\n",
    "\n",
    "# Define hyperparameter grid\n",
    "param_grid = {\n",
    "    'batch_size': [16, 32],\n",
    "    'epochs': [15, 20],  #10\n",
    "    \"model__dropout_rate\": [0.3, 0.5]\n",
    "}\n",
    "\n",
    "# Perform GridSearchCV on training data\n",
    "grid = GridSearchCV(estimator=model, param_grid=param_grid, cv=3)\n",
    "grid_result = grid.fit(X_train, y_train)\n",
    "\n",
    "# Print best hyperparameters\n",
    "print(f\"Best params: {grid_result.best_params_}\")\n",
    "print(f\"Best accuracy: {grid_result.best_score_:.4f}\")\n",
    "\n",
    "# Evaluate on unseen test data\n",
    "y_pred = grid_result.best_estimator_.predict(X_test)\n",
    "\n",
    "# Convert predictions to class labels if they are probabilities or one-hot\n",
    "y_pred_labels = np.argmax(y_pred, axis=1)  \n",
    "\n",
    "# Convert one-hot y_test to class labels\n",
    "y_test_labels = np.argmax(y_test, axis=1)\n",
    "\n",
    "accuracy = accuracy_score(y_test_labels, y_pred_labels)\n",
    "print(f\"Test accuracy: {accuracy:.4f}\")"
   ]
  },
  {
   "cell_type": "code",
   "execution_count": 18,
   "id": "81cb70a8",
   "metadata": {},
   "outputs": [
    {
     "name": "stdout",
     "output_type": "stream",
     "text": [
      "Test loss: 0.9387, Test accuracy: 0.5647\n"
     ]
    }
   ],
   "source": [
    "# Evaluate\n",
    "# Get the underlying Keras model from the best estimator\n",
    "best_model = grid_result.best_estimator_.model_\n",
    "\n",
    "# Evaluate on test data using combined features\n",
    "loss, accuracy = best_model.evaluate(X_test, y_test, verbose=0)\n",
    "print(f\"Test loss: {loss:.4f}, Test accuracy: {accuracy:.4f}\")"
   ]
  }
 ],
 "metadata": {
  "kernelspec": {
   "display_name": "cv",
   "language": "python",
   "name": "python3"
  },
  "language_info": {
   "codemirror_mode": {
    "name": "ipython",
    "version": 3
   },
   "file_extension": ".py",
   "mimetype": "text/x-python",
   "name": "python",
   "nbconvert_exporter": "python",
   "pygments_lexer": "ipython3",
   "version": "3.12.7"
  }
 },
 "nbformat": 4,
 "nbformat_minor": 5
}
