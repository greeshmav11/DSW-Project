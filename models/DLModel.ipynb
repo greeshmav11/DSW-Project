{
 "cells": [
  {
   "cell_type": "code",
   "execution_count": 3,
   "id": "7fd30c47",
   "metadata": {},
   "outputs": [],
   "source": [
    "import pandas as pd             \n",
    "import numpy as np\n",
    "from sklearn.model_selection import train_test_split\n",
    "from sklearn.preprocessing import LabelEncoder\n",
    "from tensorflow.keras.preprocessing.text import Tokenizer\n",
    "from tensorflow.keras.preprocessing.sequence import pad_sequences\n",
    "from tensorflow.keras.models import Model\n",
    "from tensorflow.keras.layers import Input, Embedding, Dense, GlobalAveragePooling1D, Concatenate, Dropout\n",
    "from tensorflow.keras.utils import to_categorical\n",
    "from tensorflow.keras.optimizers import Adam\n",
    "from scikeras.wrappers import KerasClassifier\n",
    "from sklearn.model_selection import GridSearchCV\n",
    "from tensorflow.keras.models import Sequential\n",
    "from sklearn.metrics import accuracy_score"
   ]
  },
  {
   "cell_type": "code",
   "execution_count": 4,
   "id": "3abf91e8",
   "metadata": {},
   "outputs": [],
   "source": [
    "# Step 1: Load the dataset\n",
    "df = pd.read_csv(\"../data/cleaned_reddit_posts.csv\")"
   ]
  },
  {
   "cell_type": "code",
   "execution_count": 5,
   "id": "43e5f616",
   "metadata": {},
   "outputs": [
    {
     "name": "stdout",
     "output_type": "stream",
     "text": [
      "popularity_bucket\n",
      "high      3415\n",
      "low       3316\n",
      "medium    3316\n",
      "Name: count, dtype: int64\n"
     ]
    }
   ],
   "source": [
    "# Show how many entries fall into each popularity bucket to understand class balance\n",
    "print(df[\"popularity_bucket\"].value_counts())"
   ]
  },
  {
   "cell_type": "code",
   "execution_count": 6,
   "id": "45f1313f",
   "metadata": {},
   "outputs": [],
   "source": [
    "# Step 2: Drop unneeded columns\n",
    "df = df.drop(columns=[\"id\", \"author\", \"score\", \"num_comments\", \"upvote_ratio\"])"
   ]
  },
  {
   "cell_type": "markdown",
   "id": "47334c41",
   "metadata": {},
   "source": [
    "We combine title and selftext to give the model more text information from the post, improving prediction."
   ]
  },
  {
   "cell_type": "code",
   "execution_count": 7,
   "id": "683423f5",
   "metadata": {},
   "outputs": [],
   "source": [
    "# Step 3: Combine title and selftext\n",
    "df[\"text\"] = df[\"title\"].fillna('') + \" \" + df[\"selftext\"].fillna('')"
   ]
  },
  {
   "cell_type": "code",
   "execution_count": 8,
   "id": "1e31a483",
   "metadata": {},
   "outputs": [],
   "source": [
    "# Step 4: Encode labels (popularity_bucket)\n",
    "label_encoder = LabelEncoder()\n",
    "df[\"label\"] = label_encoder.fit_transform(df[\"popularity_bucket\"])\n",
    "y = to_categorical(df[\"label\"])"
   ]
  },
  {
   "cell_type": "code",
   "execution_count": 9,
   "id": "c8230af2",
   "metadata": {},
   "outputs": [],
   "source": [
    "# Step 5: Tokenize text\n",
    "tokenizer = Tokenizer(num_words=10000, oov_token=\"<OOV>\")\n",
    "tokenizer.fit_on_texts(df[\"text\"])\n",
    "sequences = tokenizer.texts_to_sequences(df[\"text\"])\n",
    "X_text = pad_sequences(sequences, maxlen=100)"
   ]
  },
  {
   "cell_type": "code",
   "execution_count": 10,
   "id": "abde45bb",
   "metadata": {},
   "outputs": [],
   "source": [
    "# Step 6: Encode categorical features\n",
    "cat_features = [\"subreddit\", \"flair\", \"media_type\"]\n",
    "encoded_features = []\n",
    "\n",
    "for col in cat_features:\n",
    "    le = LabelEncoder()\n",
    "    df[col] = df[col].fillna(\"unknown\")\n",
    "    encoded = le.fit_transform(df[col])\n",
    "    encoded_features.append(encoded)\n",
    "\n",
    "# Add binary features\n",
    "encoded_features.append(df[\"is_self\"].astype(int))\n",
    "encoded_features.append(df[\"nsfw\"].astype(int))\n",
    "encoded_features.append(df[\"created_hour\"].fillna(0).astype(int))\n",
    "\n",
    "# Final non-text input\n",
    "X_other = np.stack(encoded_features, axis=1)\n",
    "\n",
    "# horizontally join features into one array\n",
    "X_combined = np.hstack([X_text, X_other])  "
   ]
  },
  {
   "cell_type": "code",
   "execution_count": 11,
   "id": "b9e2ef64",
   "metadata": {},
   "outputs": [],
   "source": [
    "# Step 7: Build the model\n",
    "def create_model(dropout_rate=0.3):\n",
    "    model = Sequential()\n",
    "    model.add(Input(shape=(X_combined.shape[1],)))  # single combined input\n",
    "    model.add(Dense(256, activation='relu'))  #128\n",
    "    model.add(Dropout(dropout_rate))\n",
    "    model.add(Dense(128, activation='relu'))  #64\n",
    "    model.add(Dropout(dropout_rate))\n",
    "    \n",
    "    model.add(Dense(64, activation='relu'))\n",
    "    model.add(Dropout(dropout_rate))\n",
    "\n",
    "    model.add(Dense(3, activation='softmax'))\n",
    "    \n",
    "    optimizer = Adam(learning_rate=0.001)\n",
    "    model.compile(loss='categorical_crossentropy', optimizer=optimizer, metrics=['accuracy'])\n",
    "    return model"
   ]
  },
  {
   "cell_type": "code",
   "execution_count": 14,
   "id": "8dce4197",
   "metadata": {},
   "outputs": [
    {
     "name": "stdout",
     "output_type": "stream",
     "text": [
      "Type of X_train: <class 'numpy.ndarray'>\n",
      "X_train shape: (8037, 106)\n",
      "X_train[0] shape: (106,)\n",
      "Best params: {'batch_size': 32, 'epochs': 20, 'model__dropout_rate': 0.3}\n",
      "Best accuracy: 0.3705\n",
      "Test accuracy: 0.3234\n"
     ]
    }
   ],
   "source": [
    "# Compile and train\n",
    "# Split into train and test sets\n",
    "X_train, X_test, y_train, y_test = train_test_split(X_combined, y, test_size=0.2, random_state=42)\n",
    "\n",
    "print(\"Type of X_train:\", type(X_train))\n",
    "print(\"X_train shape:\", X_train.shape)\n",
    "print(\"X_train[0] shape:\", np.array(X_train[0]).shape)\n",
    "\n",
    "# Wrap model for GridSearch\n",
    "model = KerasClassifier(model=create_model, verbose=0)\n",
    "\n",
    "# Define hyperparameter grid\n",
    "param_grid = {\n",
    "    'batch_size': [16, 32],\n",
    "    'epochs': [20, 30],  #10, 15\n",
    "    #'dropout_rate': [0.3, 0.5]\n",
    "    \"model__dropout_rate\": [0.3, 0.5]\n",
    "}\n",
    "\n",
    "# Perform GridSearchCV on training data\n",
    "grid = GridSearchCV(estimator=model, param_grid=param_grid, cv=3)\n",
    "grid_result = grid.fit(X_train, y_train)\n",
    "\n",
    "# Print best hyperparameters\n",
    "print(f\"Best params: {grid_result.best_params_}\")\n",
    "print(f\"Best accuracy: {grid_result.best_score_:.4f}\")\n",
    "\n",
    "# Evaluate on unseen test data\n",
    "y_pred = grid_result.best_estimator_.predict(X_test)\n",
    "\n",
    "# Convert predictions to class labels if they are probabilities or one-hot\n",
    "y_pred_labels = np.argmax(y_pred, axis=1)  # add this line\n",
    "\n",
    "# Convert one-hot y_test to class labels\n",
    "y_test_labels = np.argmax(y_test, axis=1)\n",
    "\n",
    "accuracy = accuracy_score(y_test_labels, y_pred_labels)\n",
    "print(f\"Test accuracy: {accuracy:.4f}\")"
   ]
  },
  {
   "cell_type": "code",
   "execution_count": 15,
   "id": "81cb70a8",
   "metadata": {},
   "outputs": [
    {
     "name": "stdout",
     "output_type": "stream",
     "text": [
      "Test loss: 1.0995, Test accuracy: 0.3234\n"
     ]
    }
   ],
   "source": [
    "# Evaluate\n",
    "# Get the underlying Keras model from the best estimator\n",
    "best_model = grid_result.best_estimator_.model_\n",
    "\n",
    "# Evaluate on test data using combined features\n",
    "loss, accuracy = best_model.evaluate(X_test, y_test, verbose=0)\n",
    "print(f\"Test loss: {loss:.4f}, Test accuracy: {accuracy:.4f}\")"
   ]
  }
 ],
 "metadata": {
  "kernelspec": {
   "display_name": ".venv",
   "language": "python",
   "name": "python3"
  },
  "language_info": {
   "codemirror_mode": {
    "name": "ipython",
    "version": 3
   },
   "file_extension": ".py",
   "mimetype": "text/x-python",
   "name": "python",
   "nbconvert_exporter": "python",
   "pygments_lexer": "ipython3",
   "version": "3.11.0"
  }
 },
 "nbformat": 4,
 "nbformat_minor": 5
}
