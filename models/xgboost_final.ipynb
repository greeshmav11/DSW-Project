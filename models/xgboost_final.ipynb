{
 "cells": [
  {
   "cell_type": "code",
   "execution_count": 1,
   "id": "6017b928",
   "metadata": {},
   "outputs": [
    {
     "name": "stderr",
     "output_type": "stream",
     "text": [
      "c:\\Users\\dsouz\\DSW-Project\\.venv311\\Lib\\site-packages\\tqdm\\auto.py:21: TqdmWarning: IProgress not found. Please update jupyter and ipywidgets. See https://ipywidgets.readthedocs.io/en/stable/user_install.html\n",
      "  from .autonotebook import tqdm as notebook_tqdm\n"
     ]
    }
   ],
   "source": [
    "import pandas as pd\n",
    "import numpy as np\n",
    "import matplotlib.pyplot as plt\n",
    "import seaborn as sns\n",
    "import xgboost as xgb\n",
    "from collections import Counter\n",
    "from sklearn.model_selection import train_test_split, StratifiedKFold\n",
    "from sklearn.preprocessing import LabelEncoder\n",
    "from sklearn.feature_extraction.text import TfidfVectorizer\n",
    "from sklearn.metrics import classification_report, accuracy_score, f1_score, confusion_matrix\n",
    "import optuna\n",
    "from optuna.pruners import MedianPruner\n",
    "from optuna.samplers import TPESampler"
   ]
  },
  {
   "cell_type": "code",
   "execution_count": 2,
   "id": "08c410a8",
   "metadata": {},
   "outputs": [],
   "source": [
    "# Data Preparation\n",
    "df = pd.read_csv(\"../cleaned_reddit_posts.csv\")\n",
    "drop_cols = ['score', 'upvote_ratio', 'sort_type', 'id', 'author', 'selftext']\n",
    "df = df.drop(columns=drop_cols)\n"
   ]
  },
  {
   "cell_type": "code",
   "execution_count": 3,
   "id": "dd208606",
   "metadata": {},
   "outputs": [],
   "source": [
    "tfidf = TfidfVectorizer(max_features=1000)\n",
    "X_title_tfidf = tfidf.fit_transform(df['title']).toarray()"
   ]
  },
  {
   "cell_type": "code",
   "execution_count": 4,
   "id": "f6430dbc",
   "metadata": {},
   "outputs": [],
   "source": [
    "label_enc_cols = ['subreddit', 'flair', 'media_type']\n",
    "for col in label_enc_cols:\n",
    "    le = LabelEncoder()\n",
    "    df[col] = le.fit_transform(df[col].astype(str))"
   ]
  },
  {
   "cell_type": "code",
   "execution_count": 5,
   "id": "cf4f64d9",
   "metadata": {},
   "outputs": [],
   "source": [
    "target_le = LabelEncoder()\n",
    "df['popularity_bucket'] = target_le.fit_transform(df['popularity_bucket'])"
   ]
  },
  {
   "cell_type": "code",
   "execution_count": 6,
   "id": "c9d23192",
   "metadata": {},
   "outputs": [],
   "source": [
    "tfidf_df = pd.DataFrame(\n",
    "    X_title_tfidf,\n",
    "    columns=[f'tfidf_{i}' for i in range(X_title_tfidf.shape[1])],\n",
    "    index=df.index\n",
    ")"
   ]
  },
  {
   "cell_type": "code",
   "execution_count": 7,
   "id": "7c400469",
   "metadata": {},
   "outputs": [],
   "source": [
    "structured_df = df.drop(columns=['popularity_bucket', 'title'])\n",
    "X = pd.concat([tfidf_df, structured_df], axis=1)\n",
    "y = df['popularity_bucket']"
   ]
  },
  {
   "cell_type": "code",
   "execution_count": 8,
   "id": "34fb4952",
   "metadata": {},
   "outputs": [],
   "source": [
    "X_train, X_test, y_train, y_test = train_test_split(\n",
    "    X, y,\n",
    "    test_size=0.2,\n",
    "    random_state=42,\n",
    "    stratify=y\n",
    ")"
   ]
  },
  {
   "cell_type": "code",
   "execution_count": 9,
   "id": "7719fdf2",
   "metadata": {},
   "outputs": [
    {
     "name": "stdout",
     "output_type": "stream",
     "text": [
      "Majority class in training data: 0\n",
      "\n",
      "Baseline Performance (Majority Class):\n",
      "Accuracy: 0.3398\n",
      "F1 Score (macro): 0.1691\n"
     ]
    }
   ],
   "source": [
    "# Baseline: majority class\n",
    "majority_class = Counter(y_train).most_common(1)[0][0]\n",
    "print(\"Majority class in training data:\", majority_class)\n",
    "\n",
    "y_pred_baseline = np.full_like(y_test, fill_value=majority_class)\n",
    "print(\"\\nBaseline Performance (Majority Class):\")\n",
    "print(\"Accuracy:\", round(accuracy_score(y_test, y_pred_baseline), 4))\n",
    "print(\"F1 Score (macro):\", round(f1_score(y_test, y_pred_baseline, average='macro'), 4))"
   ]
  },
  {
   "cell_type": "code",
   "execution_count": 10,
   "id": "18c1f146",
   "metadata": {},
   "outputs": [
    {
     "name": "stderr",
     "output_type": "stream",
     "text": [
      "c:\\Users\\dsouz\\DSW-Project\\.venv311\\Lib\\site-packages\\xgboost\\training.py:183: UserWarning: [21:19:53] WARNING: C:\\actions-runner\\_work\\xgboost\\xgboost\\src\\learner.cc:738: \n",
      "Parameters: { \"use_label_encoder\" } are not used.\n",
      "\n",
      "  bst.update(dtrain, iteration=i, fobj=obj)\n"
     ]
    },
    {
     "name": "stdout",
     "output_type": "stream",
     "text": [
      "Baseline XGBoost Performance:\n",
      "Accuracy: 0.8398009950248756\n",
      "F1 Score (macro): 0.8402179901619452\n",
      "\n",
      "Classification Report:\n",
      "               precision    recall  f1-score   support\n",
      "\n",
      "           0       0.85      0.80      0.83       683\n",
      "           1       0.93      0.94      0.93       664\n",
      "           2       0.75      0.78      0.76       663\n",
      "\n",
      "    accuracy                           0.84      2010\n",
      "   macro avg       0.84      0.84      0.84      2010\n",
      "weighted avg       0.84      0.84      0.84      2010\n",
      "\n"
     ]
    }
   ],
   "source": [
    "xgb_model = xgb.XGBClassifier(use_label_encoder=False, eval_metric='mlogloss', random_state=42)\n",
    "xgb_model.fit(X_train, y_train)\n",
    "\n",
    "y_pred = xgb_model.predict(X_test)\n",
    "print(\"Baseline XGBoost Performance:\")\n",
    "print(\"Accuracy:\", accuracy_score(y_test, y_pred))\n",
    "print(\"F1 Score (macro):\", f1_score(y_test, y_pred, average='macro'))\n",
    "print(\"\\nClassification Report:\\n\", classification_report(y_test, y_pred))"
   ]
  },
  {
   "cell_type": "code",
   "execution_count": 11,
   "id": "ff507360",
   "metadata": {},
   "outputs": [
    {
     "name": "stderr",
     "output_type": "stream",
     "text": [
      "c:\\Users\\dsouz\\DSW-Project\\.venv311\\Lib\\site-packages\\xgboost\\training.py:183: UserWarning: [21:20:23] WARNING: C:\\actions-runner\\_work\\xgboost\\xgboost\\src\\learner.cc:738: \n",
      "Parameters: { \"use_label_encoder\" } are not used.\n",
      "\n",
      "  bst.update(dtrain, iteration=i, fobj=obj)\n"
     ]
    },
    {
     "name": "stdout",
     "output_type": "stream",
     "text": [
      "Fold 1 - Accuracy: 0.8246 | F1 Score (macro): 0.8243\n"
     ]
    },
    {
     "name": "stderr",
     "output_type": "stream",
     "text": [
      "c:\\Users\\dsouz\\DSW-Project\\.venv311\\Lib\\site-packages\\xgboost\\training.py:183: UserWarning: [21:20:28] WARNING: C:\\actions-runner\\_work\\xgboost\\xgboost\\src\\learner.cc:738: \n",
      "Parameters: { \"use_label_encoder\" } are not used.\n",
      "\n",
      "  bst.update(dtrain, iteration=i, fobj=obj)\n"
     ]
    },
    {
     "name": "stdout",
     "output_type": "stream",
     "text": [
      "Fold 2 - Accuracy: 0.8377 | F1 Score (macro): 0.8384\n"
     ]
    },
    {
     "name": "stderr",
     "output_type": "stream",
     "text": [
      "c:\\Users\\dsouz\\DSW-Project\\.venv311\\Lib\\site-packages\\xgboost\\training.py:183: UserWarning: [21:20:38] WARNING: C:\\actions-runner\\_work\\xgboost\\xgboost\\src\\learner.cc:738: \n",
      "Parameters: { \"use_label_encoder\" } are not used.\n",
      "\n",
      "  bst.update(dtrain, iteration=i, fobj=obj)\n"
     ]
    },
    {
     "name": "stdout",
     "output_type": "stream",
     "text": [
      "Fold 3 - Accuracy: 0.8314 | F1 Score (macro): 0.8316\n"
     ]
    },
    {
     "name": "stderr",
     "output_type": "stream",
     "text": [
      "c:\\Users\\dsouz\\DSW-Project\\.venv311\\Lib\\site-packages\\xgboost\\training.py:183: UserWarning: [21:20:52] WARNING: C:\\actions-runner\\_work\\xgboost\\xgboost\\src\\learner.cc:738: \n",
      "Parameters: { \"use_label_encoder\" } are not used.\n",
      "\n",
      "  bst.update(dtrain, iteration=i, fobj=obj)\n"
     ]
    },
    {
     "name": "stdout",
     "output_type": "stream",
     "text": [
      "Fold 4 - Accuracy: 0.8289 | F1 Score (macro): 0.8292\n"
     ]
    },
    {
     "name": "stderr",
     "output_type": "stream",
     "text": [
      "c:\\Users\\dsouz\\DSW-Project\\.venv311\\Lib\\site-packages\\xgboost\\training.py:183: UserWarning: [21:21:05] WARNING: C:\\actions-runner\\_work\\xgboost\\xgboost\\src\\learner.cc:738: \n",
      "Parameters: { \"use_label_encoder\" } are not used.\n",
      "\n",
      "  bst.update(dtrain, iteration=i, fobj=obj)\n"
     ]
    },
    {
     "name": "stdout",
     "output_type": "stream",
     "text": [
      "Fold 5 - Accuracy: 0.8301 | F1 Score (macro): 0.8304\n",
      "\n",
      "K-Fold CV Results (5 folds):\n",
      "Avg Accuracy: 0.8305 ± 0.0042\n",
      "Avg F1 Score: 0.8308 ± 0.0045\n"
     ]
    }
   ],
   "source": [
    "# 5-Fold CV\n",
    "kf = StratifiedKFold(n_splits=5, shuffle=True, random_state=42)\n",
    "accuracies = []\n",
    "f1_scores = []\n",
    "\n",
    "for fold, (train_idx, val_idx) in enumerate(kf.split(X_train, y_train), 1):\n",
    "    X_tr, X_val_fold = X_train.iloc[train_idx], X_train.iloc[val_idx]\n",
    "    y_tr, y_val_fold = y_train.iloc[train_idx], y_train.iloc[val_idx]\n",
    "\n",
    "    model = xgb.XGBClassifier(objective='multi:softprob', eval_metric='mlogloss', use_label_encoder=False, random_state=42)\n",
    "    model.fit(X_tr, y_tr)\n",
    "\n",
    "    y_pred_fold = model.predict(X_val_fold)\n",
    "    acc = accuracy_score(y_val_fold, y_pred_fold)\n",
    "    f1 = f1_score(y_val_fold, y_pred_fold, average='macro')\n",
    "\n",
    "    accuracies.append(acc)\n",
    "    f1_scores.append(f1)\n",
    "\n",
    "    print(f\"Fold {fold} - Accuracy: {acc:.4f} | F1 Score (macro): {f1:.4f}\")\n",
    "\n",
    "print(\"\\nK-Fold CV Results (5 folds):\")\n",
    "print(f\"Avg Accuracy: {np.mean(accuracies):.4f} ± {np.std(accuracies):.4f}\")\n",
    "print(f\"Avg F1 Score: {np.mean(f1_scores):.4f} ± {np.std(f1_scores):.4f}\")"
   ]
  },
  {
   "cell_type": "code",
   "execution_count": 12,
   "id": "99b2c606",
   "metadata": {},
   "outputs": [
    {
     "name": "stderr",
     "output_type": "stream",
     "text": [
      "[I 2025-07-13 21:21:18,933] A new study created in memory with name: no-name-945fe3ad-dc22-40e4-b744-566ebc429650\n",
      "c:\\Users\\dsouz\\DSW-Project\\.venv311\\Lib\\site-packages\\xgboost\\training.py:183: UserWarning: [21:21:19] WARNING: C:\\actions-runner\\_work\\xgboost\\xgboost\\src\\learner.cc:738: \n",
      "Parameters: { \"use_label_encoder\" } are not used.\n",
      "\n",
      "  bst.update(dtrain, iteration=i, fobj=obj)\n",
      "[I 2025-07-13 21:21:57,294] Trial 0 finished with value: 0.8337528627783541 and parameters: {'n_estimators': 427, 'max_depth': 3, 'learning_rate': 0.18276492543679954, 'subsample': 0.5870270116415525, 'colsample_bytree': 0.6604992457743122, 'gamma': 2.1905809752177827, 'reg_lambda': 0.012111951842161975, 'reg_alpha': 7.914972676744597}. Best is trial 0 with value: 0.8337528627783541.\n",
      "c:\\Users\\dsouz\\DSW-Project\\.venv311\\Lib\\site-packages\\xgboost\\training.py:183: UserWarning: [21:21:58] WARNING: C:\\actions-runner\\_work\\xgboost\\xgboost\\src\\learner.cc:738: \n",
      "Parameters: { \"use_label_encoder\" } are not used.\n",
      "\n",
      "  bst.update(dtrain, iteration=i, fobj=obj)\n",
      "[I 2025-07-13 21:22:54,409] Trial 1 finished with value: 0.8418352366450735 and parameters: {'n_estimators': 403, 'max_depth': 5, 'learning_rate': 0.13934848192567695, 'subsample': 0.5447225720233388, 'colsample_bytree': 0.7876640001595798, 'gamma': 1.0136677577417152, 'reg_lambda': 9.800173207389754, 'reg_alpha': 0.4092074914563914}. Best is trial 1 with value: 0.8418352366450735.\n",
      "c:\\Users\\dsouz\\DSW-Project\\.venv311\\Lib\\site-packages\\xgboost\\training.py:183: UserWarning: [21:22:55] WARNING: C:\\actions-runner\\_work\\xgboost\\xgboost\\src\\learner.cc:738: \n",
      "Parameters: { \"use_label_encoder\" } are not used.\n",
      "\n",
      "  bst.update(dtrain, iteration=i, fobj=obj)\n",
      "[I 2025-07-13 21:23:54,685] Trial 2 finished with value: 0.8391364731078971 and parameters: {'n_estimators': 441, 'max_depth': 9, 'learning_rate': 0.01876733804196714, 'subsample': 0.8331478681398838, 'colsample_bytree': 0.7495174253446448, 'gamma': 4.450080508450821, 'reg_lambda': 9.120276622000654, 'reg_alpha': 5.013547888267239}. Best is trial 1 with value: 0.8418352366450735.\n",
      "c:\\Users\\dsouz\\DSW-Project\\.venv311\\Lib\\site-packages\\xgboost\\training.py:183: UserWarning: [21:23:55] WARNING: C:\\actions-runner\\_work\\xgboost\\xgboost\\src\\learner.cc:738: \n",
      "Parameters: { \"use_label_encoder\" } are not used.\n",
      "\n",
      "  bst.update(dtrain, iteration=i, fobj=obj)\n",
      "[I 2025-07-13 21:24:26,577] Trial 3 finished with value: 0.8421466607161149 and parameters: {'n_estimators': 364, 'max_depth': 5, 'learning_rate': 0.11201001260919177, 'subsample': 0.82365015974116, 'colsample_bytree': 0.5564095213101028, 'gamma': 2.3194678360584615, 'reg_lambda': 2.0787386356510815, 'reg_alpha': 8.795440185254558}. Best is trial 3 with value: 0.8421466607161149.\n",
      "c:\\Users\\dsouz\\DSW-Project\\.venv311\\Lib\\site-packages\\xgboost\\training.py:183: UserWarning: [21:24:27] WARNING: C:\\actions-runner\\_work\\xgboost\\xgboost\\src\\learner.cc:738: \n",
      "Parameters: { \"use_label_encoder\" } are not used.\n",
      "\n",
      "  bst.update(dtrain, iteration=i, fobj=obj)\n",
      "[I 2025-07-13 21:24:41,767] Trial 4 finished with value: 0.8434586575327262 and parameters: {'n_estimators': 163, 'max_depth': 8, 'learning_rate': 0.28327030047913804, 'subsample': 0.8931078891044429, 'colsample_bytree': 0.6054608584580778, 'gamma': 2.3971075518733698, 'reg_lambda': 2.0828452510149793, 'reg_alpha': 2.6178912531887315}. Best is trial 4 with value: 0.8434586575327262.\n",
      "c:\\Users\\dsouz\\DSW-Project\\.venv311\\Lib\\site-packages\\xgboost\\training.py:183: UserWarning: [21:24:42] WARNING: C:\\actions-runner\\_work\\xgboost\\xgboost\\src\\learner.cc:738: \n",
      "Parameters: { \"use_label_encoder\" } are not used.\n",
      "\n",
      "  bst.update(dtrain, iteration=i, fobj=obj)\n",
      "[I 2025-07-13 21:25:10,236] Trial 5 finished with value: 0.8383840210607767 and parameters: {'n_estimators': 267, 'max_depth': 9, 'learning_rate': 0.06852598720171409, 'subsample': 0.9799400525890489, 'colsample_bytree': 0.8240339356049882, 'gamma': 3.3406481464201354, 'reg_lambda': 7.2894915210514, 'reg_alpha': 4.449206347475675}. Best is trial 4 with value: 0.8434586575327262.\n",
      "c:\\Users\\dsouz\\DSW-Project\\.venv311\\Lib\\site-packages\\xgboost\\training.py:183: UserWarning: [21:25:10] WARNING: C:\\actions-runner\\_work\\xgboost\\xgboost\\src\\learner.cc:738: \n",
      "Parameters: { \"use_label_encoder\" } are not used.\n",
      "\n",
      "  bst.update(dtrain, iteration=i, fobj=obj)\n",
      "[I 2025-07-13 21:25:37,778] Trial 6 finished with value: 0.8391094512868768 and parameters: {'n_estimators': 237, 'max_depth': 7, 'learning_rate': 0.0946810551457486, 'subsample': 0.9263304762513328, 'colsample_bytree': 0.7414726107172197, 'gamma': 0.9748523381419966, 'reg_lambda': 8.965657650144518, 'reg_alpha': 4.990479171542085}. Best is trial 4 with value: 0.8434586575327262.\n",
      "c:\\Users\\dsouz\\DSW-Project\\.venv311\\Lib\\site-packages\\xgboost\\training.py:183: UserWarning: [21:25:38] WARNING: C:\\actions-runner\\_work\\xgboost\\xgboost\\src\\learner.cc:738: \n",
      "Parameters: { \"use_label_encoder\" } are not used.\n",
      "\n",
      "  bst.update(dtrain, iteration=i, fobj=obj)\n",
      "[I 2025-07-13 21:26:08,782] Trial 7 finished with value: 0.8419579192976557 and parameters: {'n_estimators': 254, 'max_depth': 9, 'learning_rate': 0.05994679774655762, 'subsample': 0.5770255398800204, 'colsample_bytree': 0.7705379031951912, 'gamma': 3.0607952220614445, 'reg_lambda': 2.3303728753884334, 'reg_alpha': 0.12717734343267578}. Best is trial 4 with value: 0.8434586575327262.\n",
      "c:\\Users\\dsouz\\DSW-Project\\.venv311\\Lib\\site-packages\\xgboost\\training.py:183: UserWarning: [21:26:09] WARNING: C:\\actions-runner\\_work\\xgboost\\xgboost\\src\\learner.cc:738: \n",
      "Parameters: { \"use_label_encoder\" } are not used.\n",
      "\n",
      "  bst.update(dtrain, iteration=i, fobj=obj)\n",
      "[I 2025-07-13 21:26:32,030] Trial 8 finished with value: 0.8394796923616074 and parameters: {'n_estimators': 224, 'max_depth': 3, 'learning_rate': 0.12363145569260577, 'subsample': 0.5314347524432521, 'colsample_bytree': 0.7549652123391635, 'gamma': 1.0863621660817702, 'reg_lambda': 4.171022407089229, 'reg_alpha': 9.198191462418121}. Best is trial 4 with value: 0.8434586575327262.\n",
      "c:\\Users\\dsouz\\DSW-Project\\.venv311\\Lib\\site-packages\\xgboost\\training.py:183: UserWarning: [21:26:32] WARNING: C:\\actions-runner\\_work\\xgboost\\xgboost\\src\\learner.cc:738: \n",
      "Parameters: { \"use_label_encoder\" } are not used.\n",
      "\n",
      "  bst.update(dtrain, iteration=i, fobj=obj)\n",
      "[I 2025-07-13 21:27:09,460] Trial 9 finished with value: 0.837916621577219 and parameters: {'n_estimators': 454, 'max_depth': 10, 'learning_rate': 0.22359998928709832, 'subsample': 0.50489389081365, 'colsample_bytree': 0.5137689268989836, 'gamma': 4.563619803878259, 'reg_lambda': 7.969396761772021, 'reg_alpha': 2.522318188582897}. Best is trial 4 with value: 0.8434586575327262.\n",
      "c:\\Users\\dsouz\\DSW-Project\\.venv311\\Lib\\site-packages\\xgboost\\training.py:183: UserWarning: [21:27:10] WARNING: C:\\actions-runner\\_work\\xgboost\\xgboost\\src\\learner.cc:738: \n",
      "Parameters: { \"use_label_encoder\" } are not used.\n",
      "\n",
      "  bst.update(dtrain, iteration=i, fobj=obj)\n",
      "[I 2025-07-13 21:27:40,564] Trial 10 finished with value: 0.8309012914522865 and parameters: {'n_estimators': 121, 'max_depth': 7, 'learning_rate': 0.29451594038059753, 'subsample': 0.6912923932123477, 'colsample_bytree': 0.9887967948733178, 'gamma': 0.029721432091058375, 'reg_lambda': 5.5177579580851965, 'reg_alpha': 2.4070910323624983}. Best is trial 4 with value: 0.8434586575327262.\n",
      "c:\\Users\\dsouz\\DSW-Project\\.venv311\\Lib\\site-packages\\xgboost\\training.py:183: UserWarning: [21:27:41] WARNING: C:\\actions-runner\\_work\\xgboost\\xgboost\\src\\learner.cc:738: \n",
      "Parameters: { \"use_label_encoder\" } are not used.\n",
      "\n",
      "  bst.update(dtrain, iteration=i, fobj=obj)\n",
      "[I 2025-07-13 21:28:11,482] Trial 11 finished with value: 0.8401859091596472 and parameters: {'n_estimators': 340, 'max_depth': 5, 'learning_rate': 0.2746927130889711, 'subsample': 0.8154881976934545, 'colsample_bytree': 0.5174545648648137, 'gamma': 2.0924814144681485, 'reg_lambda': 1.6135309414799979, 'reg_alpha': 6.95130453084501}. Best is trial 4 with value: 0.8434586575327262.\n",
      "c:\\Users\\dsouz\\DSW-Project\\.venv311\\Lib\\site-packages\\xgboost\\training.py:183: UserWarning: [21:28:12] WARNING: C:\\actions-runner\\_work\\xgboost\\xgboost\\src\\learner.cc:738: \n",
      "Parameters: { \"use_label_encoder\" } are not used.\n",
      "\n",
      "  bst.update(dtrain, iteration=i, fobj=obj)\n",
      "[I 2025-07-13 21:28:25,161] Trial 12 finished with value: 0.8352855716187911 and parameters: {'n_estimators': 122, 'max_depth': 5, 'learning_rate': 0.2005689643905005, 'subsample': 0.8697648510923479, 'colsample_bytree': 0.6098024983329422, 'gamma': 3.0522726743692132, 'reg_lambda': 3.147476414563315, 'reg_alpha': 9.425821184775678}. Best is trial 4 with value: 0.8434586575327262.\n",
      "c:\\Users\\dsouz\\DSW-Project\\.venv311\\Lib\\site-packages\\xgboost\\training.py:183: UserWarning: [21:28:25] WARNING: C:\\actions-runner\\_work\\xgboost\\xgboost\\src\\learner.cc:738: \n",
      "Parameters: { \"use_label_encoder\" } are not used.\n",
      "\n",
      "  bst.update(dtrain, iteration=i, fobj=obj)\n",
      "[I 2025-07-13 21:28:58,561] Trial 13 finished with value: 0.8364821629666617 and parameters: {'n_estimators': 352, 'max_depth': 6, 'learning_rate': 0.22581067473592295, 'subsample': 0.7262287809916234, 'colsample_bytree': 0.6033872541525229, 'gamma': 1.9412908116675196, 'reg_lambda': 0.5480008594904799, 'reg_alpha': 2.970020275692365}. Best is trial 4 with value: 0.8434586575327262.\n",
      "c:\\Users\\dsouz\\DSW-Project\\.venv311\\Lib\\site-packages\\xgboost\\training.py:183: UserWarning: [21:28:59] WARNING: C:\\actions-runner\\_work\\xgboost\\xgboost\\src\\learner.cc:738: \n",
      "Parameters: { \"use_label_encoder\" } are not used.\n",
      "\n",
      "  bst.update(dtrain, iteration=i, fobj=obj)\n",
      "[I 2025-07-13 21:29:16,552] Trial 14 finished with value: 0.840060368617087 and parameters: {'n_estimators': 166, 'max_depth': 8, 'learning_rate': 0.17225433671786053, 'subsample': 0.7855798081406339, 'colsample_bytree': 0.5928900630870801, 'gamma': 3.553141934716379, 'reg_lambda': 4.961343391243693, 'reg_alpha': 7.098916255775912}. Best is trial 4 with value: 0.8434586575327262.\n",
      "c:\\Users\\dsouz\\DSW-Project\\.venv311\\Lib\\site-packages\\xgboost\\training.py:183: UserWarning: [21:29:17] WARNING: C:\\actions-runner\\_work\\xgboost\\xgboost\\src\\learner.cc:738: \n",
      "Parameters: { \"use_label_encoder\" } are not used.\n",
      "\n",
      "  bst.update(dtrain, iteration=i, fobj=obj)\n",
      "[I 2025-07-13 21:30:00,850] Trial 15 finished with value: 0.8416782372989768 and parameters: {'n_estimators': 498, 'max_depth': 4, 'learning_rate': 0.25446982449561917, 'subsample': 0.948565034377451, 'colsample_bytree': 0.6652816030172456, 'gamma': 1.5551626880958997, 'reg_lambda': 1.5488923110150803, 'reg_alpha': 3.8955344083278116}. Best is trial 4 with value: 0.8434586575327262.\n",
      "c:\\Users\\dsouz\\DSW-Project\\.venv311\\Lib\\site-packages\\xgboost\\training.py:183: UserWarning: [21:30:01] WARNING: C:\\actions-runner\\_work\\xgboost\\xgboost\\src\\learner.cc:738: \n",
      "Parameters: { \"use_label_encoder\" } are not used.\n",
      "\n",
      "  bst.update(dtrain, iteration=i, fobj=obj)\n",
      "[I 2025-07-13 21:30:35,792] Trial 16 finished with value: 0.8385471271666433 and parameters: {'n_estimators': 316, 'max_depth': 6, 'learning_rate': 0.10257736374359572, 'subsample': 0.8913870175751688, 'colsample_bytree': 0.566477150453205, 'gamma': 2.62069412421965, 'reg_lambda': 3.4558430150285773, 'reg_alpha': 1.2720888540378263}. Best is trial 4 with value: 0.8434586575327262.\n",
      "c:\\Users\\dsouz\\DSW-Project\\.venv311\\Lib\\site-packages\\xgboost\\training.py:183: UserWarning: [21:30:36] WARNING: C:\\actions-runner\\_work\\xgboost\\xgboost\\src\\learner.cc:738: \n",
      "Parameters: { \"use_label_encoder\" } are not used.\n",
      "\n",
      "  bst.update(dtrain, iteration=i, fobj=obj)\n",
      "[I 2025-07-13 21:43:30,990] Trial 17 finished with value: 0.8374376880345782 and parameters: {'n_estimators': 183, 'max_depth': 8, 'learning_rate': 0.15421722959350886, 'subsample': 0.6747004723495884, 'colsample_bytree': 0.6760858977713832, 'gamma': 3.8744193591091807, 'reg_lambda': 6.30686954202108, 'reg_alpha': 6.1670565220226745}. Best is trial 4 with value: 0.8434586575327262.\n",
      "c:\\Users\\dsouz\\DSW-Project\\.venv311\\Lib\\site-packages\\xgboost\\training.py:183: UserWarning: [21:43:31] WARNING: C:\\actions-runner\\_work\\xgboost\\xgboost\\src\\learner.cc:738: \n",
      "Parameters: { \"use_label_encoder\" } are not used.\n",
      "\n",
      "  bst.update(dtrain, iteration=i, fobj=obj)\n",
      "[I 2025-07-13 21:43:52,968] Trial 18 finished with value: 0.8365284241272409 and parameters: {'n_estimators': 376, 'max_depth': 4, 'learning_rate': 0.052231426104370635, 'subsample': 0.77609103604061, 'colsample_bytree': 0.5374271923433072, 'gamma': 2.7577865969353885, 'reg_lambda': 2.701082922318209, 'reg_alpha': 8.221652498729952}. Best is trial 4 with value: 0.8434586575327262.\n",
      "c:\\Users\\dsouz\\DSW-Project\\.venv311\\Lib\\site-packages\\xgboost\\training.py:183: UserWarning: [21:43:53] WARNING: C:\\actions-runner\\_work\\xgboost\\xgboost\\src\\learner.cc:738: \n",
      "Parameters: { \"use_label_encoder\" } are not used.\n",
      "\n",
      "  bst.update(dtrain, iteration=i, fobj=obj)\n",
      "[I 2025-07-13 21:44:23,665] Trial 19 finished with value: 0.8377784690473847 and parameters: {'n_estimators': 291, 'max_depth': 8, 'learning_rate': 0.1119435515992725, 'subsample': 0.867488214545006, 'colsample_bytree': 0.8914979111978549, 'gamma': 0.18702746724999741, 'reg_lambda': 1.3589462316642007, 'reg_alpha': 3.5672030688147305}. Best is trial 4 with value: 0.8434586575327262.\n",
      "c:\\Users\\dsouz\\DSW-Project\\.venv311\\Lib\\site-packages\\xgboost\\training.py:183: UserWarning: [21:44:23] WARNING: C:\\actions-runner\\_work\\xgboost\\xgboost\\src\\learner.cc:738: \n",
      "Parameters: { \"use_label_encoder\" } are not used.\n",
      "\n",
      "  bst.update(dtrain, iteration=i, fobj=obj)\n",
      "[I 2025-07-13 21:44:36,717] Trial 20 finished with value: 0.8418263072199648 and parameters: {'n_estimators': 195, 'max_depth': 6, 'learning_rate': 0.24778346204087287, 'subsample': 0.9979640669006977, 'colsample_bytree': 0.6926119195551377, 'gamma': 1.5984517349540535, 'reg_lambda': 4.26949697411285, 'reg_alpha': 5.783739178648079}. Best is trial 4 with value: 0.8434586575327262.\n",
      "c:\\Users\\dsouz\\DSW-Project\\.venv311\\Lib\\site-packages\\xgboost\\training.py:183: UserWarning: [21:44:37] WARNING: C:\\actions-runner\\_work\\xgboost\\xgboost\\src\\learner.cc:738: \n",
      "Parameters: { \"use_label_encoder\" } are not used.\n",
      "\n",
      "  bst.update(dtrain, iteration=i, fobj=obj)\n",
      "[I 2025-07-13 21:45:00,574] Trial 21 finished with value: 0.8404822538561141 and parameters: {'n_estimators': 246, 'max_depth': 10, 'learning_rate': 0.06366492422438108, 'subsample': 0.6106557418575647, 'colsample_bytree': 0.8707204376639415, 'gamma': 2.754680902126977, 'reg_lambda': 2.521274530564413, 'reg_alpha': 0.03474691714156322}. Best is trial 4 with value: 0.8434586575327262.\n",
      "c:\\Users\\dsouz\\DSW-Project\\.venv311\\Lib\\site-packages\\xgboost\\training.py:183: UserWarning: [21:45:01] WARNING: C:\\actions-runner\\_work\\xgboost\\xgboost\\src\\learner.cc:738: \n",
      "Parameters: { \"use_label_encoder\" } are not used.\n",
      "\n",
      "  bst.update(dtrain, iteration=i, fobj=obj)\n",
      "[I 2025-07-13 21:45:24,238] Trial 22 finished with value: 0.8438938052155628 and parameters: {'n_estimators': 146, 'max_depth': 9, 'learning_rate': 0.025411513230330876, 'subsample': 0.654089389844283, 'colsample_bytree': 0.6344211500272448, 'gamma': 3.9504921542560947, 'reg_lambda': 2.150882463386539, 'reg_alpha': 1.4709140152396194}. Best is trial 22 with value: 0.8438938052155628.\n",
      "c:\\Users\\dsouz\\DSW-Project\\.venv311\\Lib\\site-packages\\xgboost\\training.py:183: UserWarning: [21:45:24] WARNING: C:\\actions-runner\\_work\\xgboost\\xgboost\\src\\learner.cc:738: \n",
      "Parameters: { \"use_label_encoder\" } are not used.\n",
      "\n",
      "  bst.update(dtrain, iteration=i, fobj=obj)\n",
      "[I 2025-07-13 21:45:48,192] Trial 23 finished with value: 0.8445341735906905 and parameters: {'n_estimators': 153, 'max_depth': 7, 'learning_rate': 0.02485458150558259, 'subsample': 0.6549573855010098, 'colsample_bytree': 0.6271332651289346, 'gamma': 4.05812341458172, 'reg_lambda': 0.8369193922796077, 'reg_alpha': 1.1385221094575617}. Best is trial 23 with value: 0.8445341735906905.\n",
      "c:\\Users\\dsouz\\DSW-Project\\.venv311\\Lib\\site-packages\\xgboost\\training.py:183: UserWarning: [21:45:48] WARNING: C:\\actions-runner\\_work\\xgboost\\xgboost\\src\\learner.cc:738: \n",
      "Parameters: { \"use_label_encoder\" } are not used.\n",
      "\n",
      "  bst.update(dtrain, iteration=i, fobj=obj)\n",
      "[I 2025-07-13 21:46:12,771] Trial 24 finished with value: 0.8434009033575846 and parameters: {'n_estimators': 150, 'max_depth': 7, 'learning_rate': 0.013514768156075052, 'subsample': 0.6460722637563814, 'colsample_bytree': 0.6300316226295238, 'gamma': 4.046166051690502, 'reg_lambda': 0.7524980480577245, 'reg_alpha': 1.5187668560589644}. Best is trial 23 with value: 0.8445341735906905.\n",
      "c:\\Users\\dsouz\\DSW-Project\\.venv311\\Lib\\site-packages\\xgboost\\training.py:183: UserWarning: [21:46:13] WARNING: C:\\actions-runner\\_work\\xgboost\\xgboost\\src\\learner.cc:738: \n",
      "Parameters: { \"use_label_encoder\" } are not used.\n",
      "\n",
      "  bst.update(dtrain, iteration=i, fobj=obj)\n",
      "[I 2025-07-13 21:46:29,258] Trial 25 finished with value: 0.8432373931529721 and parameters: {'n_estimators': 106, 'max_depth': 8, 'learning_rate': 0.03328834991197402, 'subsample': 0.7198184690164164, 'colsample_bytree': 0.7014824393526482, 'gamma': 4.8692337572363655, 'reg_lambda': 0.8369663348260075, 'reg_alpha': 1.4581590208671555}. Best is trial 23 with value: 0.8445341735906905.\n",
      "c:\\Users\\dsouz\\DSW-Project\\.venv311\\Lib\\site-packages\\xgboost\\training.py:183: UserWarning: [21:46:29] WARNING: C:\\actions-runner\\_work\\xgboost\\xgboost\\src\\learner.cc:738: \n",
      "Parameters: { \"use_label_encoder\" } are not used.\n",
      "\n",
      "  bst.update(dtrain, iteration=i, fobj=obj)\n",
      "[I 2025-07-13 21:46:50,208] Trial 26 finished with value: 0.8431607869255315 and parameters: {'n_estimators': 205, 'max_depth': 9, 'learning_rate': 0.08234640786238409, 'subsample': 0.6360931302331487, 'colsample_bytree': 0.621200996461564, 'gamma': 4.050059667313464, 'reg_lambda': 3.7290209223550805, 'reg_alpha': 1.9564765179740555}. Best is trial 23 with value: 0.8445341735906905.\n",
      "c:\\Users\\dsouz\\DSW-Project\\.venv311\\Lib\\site-packages\\xgboost\\training.py:183: UserWarning: [21:46:50] WARNING: C:\\actions-runner\\_work\\xgboost\\xgboost\\src\\learner.cc:738: \n",
      "Parameters: { \"use_label_encoder\" } are not used.\n",
      "\n",
      "  bst.update(dtrain, iteration=i, fobj=obj)\n",
      "[I 2025-07-13 21:47:13,637] Trial 27 finished with value: 0.8436174998852316 and parameters: {'n_estimators': 150, 'max_depth': 10, 'learning_rate': 0.03053733997182697, 'subsample': 0.6791913519777676, 'colsample_bytree': 0.7123662975019779, 'gamma': 3.6265894610215903, 'reg_lambda': 1.5996456904561929, 'reg_alpha': 0.6936976292110532}. Best is trial 23 with value: 0.8445341735906905.\n",
      "c:\\Users\\dsouz\\DSW-Project\\.venv311\\Lib\\site-packages\\xgboost\\training.py:183: UserWarning: [21:47:14] WARNING: C:\\actions-runner\\_work\\xgboost\\xgboost\\src\\learner.cc:738: \n",
      "Parameters: { \"use_label_encoder\" } are not used.\n",
      "\n",
      "  bst.update(dtrain, iteration=i, fobj=obj)\n",
      "[I 2025-07-13 21:47:34,451] Trial 28 finished with value: 0.844529313255951 and parameters: {'n_estimators': 141, 'max_depth': 10, 'learning_rate': 0.03953152929174927, 'subsample': 0.6825536772888412, 'colsample_bytree': 0.7158239293525037, 'gamma': 3.6751556740173315, 'reg_lambda': 0.04582025473501328, 'reg_alpha': 0.9292009339359899}. Best is trial 23 with value: 0.8445341735906905.\n",
      "c:\\Users\\dsouz\\DSW-Project\\.venv311\\Lib\\site-packages\\xgboost\\training.py:183: UserWarning: [21:47:35] WARNING: C:\\actions-runner\\_work\\xgboost\\xgboost\\src\\learner.cc:738: \n",
      "Parameters: { \"use_label_encoder\" } are not used.\n",
      "\n",
      "  bst.update(dtrain, iteration=i, fobj=obj)\n",
      "[I 2025-07-13 21:47:52,721] Trial 29 finished with value: 0.8437940944721593 and parameters: {'n_estimators': 131, 'max_depth': 10, 'learning_rate': 0.043595517720250304, 'subsample': 0.5938833264530949, 'colsample_bytree': 0.6472889423678501, 'gamma': 4.378726993418542, 'reg_lambda': 0.1677876308853954, 'reg_alpha': 0.8903406513387365}. Best is trial 23 with value: 0.8445341735906905.\n"
     ]
    },
    {
     "name": "stdout",
     "output_type": "stream",
     "text": [
      "Best trial:\n",
      "  F1 Score: 0.8445341735906905\n",
      "  Best hyperparameters:\n",
      "    n_estimators: 153\n",
      "    max_depth: 7\n",
      "    learning_rate: 0.02485458150558259\n",
      "    subsample: 0.6549573855010098\n",
      "    colsample_bytree: 0.6271332651289346\n",
      "    gamma: 4.05812341458172\n",
      "    reg_lambda: 0.8369193922796077\n",
      "    reg_alpha: 1.1385221094575617\n"
     ]
    }
   ],
   "source": [
    "# Optuna hyperparameter tuning\n",
    "def objective(trial):\n",
    "    params = {\n",
    "        'n_estimators': trial.suggest_int('n_estimators', 100, 500),\n",
    "        'max_depth': trial.suggest_int('max_depth', 3, 10),\n",
    "        'learning_rate': trial.suggest_float('learning_rate', 0.01, 0.3),\n",
    "        'subsample': trial.suggest_float('subsample', 0.5, 1.0),\n",
    "        'colsample_bytree': trial.suggest_float('colsample_bytree', 0.5, 1.0),\n",
    "        'gamma': trial.suggest_float('gamma', 0, 5),\n",
    "        'reg_lambda': trial.suggest_float('reg_lambda', 1e-3, 10.0),\n",
    "        'reg_alpha': trial.suggest_float('reg_alpha', 1e-3, 10.0),\n",
    "        'random_state': 42,\n",
    "        #'use_label_encoder': False,\n",
    "        'eval_metric': 'mlogloss'\n",
    "    }\n",
    "\n",
    "    model = xgb.XGBClassifier(**params)\n",
    "    model.fit(X_train, y_train)\n",
    "\n",
    "    preds = model.predict(X_test)\n",
    "    f1 = f1_score(y_test, preds, average='macro')\n",
    "    return f1\n",
    "\n",
    "study = optuna.create_study(direction='maximize', sampler=TPESampler(), pruner=MedianPruner())\n",
    "study.optimize(objective, n_trials=30)\n",
    "\n",
    "print(\"Best trial:\")\n",
    "print(f\"  F1 Score: {study.best_value}\")\n",
    "print(\"  Best hyperparameters:\")\n",
    "for key, val in study.best_params.items():\n",
    "    print(f\"    {key}: {val}\")"
   ]
  },
  {
   "cell_type": "code",
   "execution_count": 13,
   "id": "55ddad51",
   "metadata": {},
   "outputs": [
    {
     "name": "stderr",
     "output_type": "stream",
     "text": [
      "c:\\Users\\dsouz\\DSW-Project\\.venv311\\Lib\\site-packages\\xgboost\\training.py:183: UserWarning: [21:47:58] WARNING: C:\\actions-runner\\_work\\xgboost\\xgboost\\src\\learner.cc:738: \n",
      "Parameters: { \"use_label_encoder\" } are not used.\n",
      "\n",
      "  bst.update(dtrain, iteration=i, fobj=obj)\n"
     ]
    },
    {
     "name": "stdout",
     "output_type": "stream",
     "text": [
      "Final Evaluation After Tuning:\n",
      "Accuracy: 0.8422885572139304\n",
      "F1 Score (macro): 0.8430622811427765\n",
      "\n",
      "Classification Report:\n",
      "              precision    recall  f1-score   support\n",
      "\n",
      "           0       0.85      0.80      0.83       683\n",
      "           1       0.94      0.93      0.93       664\n",
      "           2       0.75      0.79      0.77       663\n",
      "\n",
      "    accuracy                           0.84      2010\n",
      "   macro avg       0.84      0.84      0.84      2010\n",
      "weighted avg       0.84      0.84      0.84      2010\n",
      "\n"
     ]
    }
   ],
   "source": [
    "# Retrain final model with best params\n",
    "best_params = study.best_trial.params\n",
    "best_params.update({\n",
    "    \"objective\": \"multi:softprob\",\n",
    "    \"num_class\": len(target_le.classes_),\n",
    "    \"use_label_encoder\": False,\n",
    "    \"eval_metric\": \"mlogloss\"\n",
    "})\n",
    "\n",
    "final_model = xgb.XGBClassifier(**best_params)\n",
    "final_model.fit(X_train, y_train)\n",
    "\n",
    "y_test_pred_best = final_model.predict(X_test)\n",
    "\n",
    "print(\"Final Evaluation After Tuning:\")\n",
    "print(\"Accuracy:\", accuracy_score(y_test, y_test_pred_best))\n",
    "print(\"F1 Score (macro):\", f1_score(y_test, y_test_pred_best, average='macro'))\n",
    "print(\"\\nClassification Report:\")\n",
    "print(classification_report(y_test, y_test_pred_best))"
   ]
  },
  {
   "cell_type": "code",
   "execution_count": 14,
   "id": "1bb1c787",
   "metadata": {},
   "outputs": [
    {
     "data": {
      "image/png": "[encoded data removed]",
      "text/plain": [
       "<Figure size 640x480 with 2 Axes>"
      ]
     },
     "metadata": {},
     "output_type": "display_data"
    }
   ],
   "source": [
    "# Confusion matrix plot\n",
    "cm = confusion_matrix(y_test, y_test_pred_best)\n",
    "sns.heatmap(cm, annot=True, fmt='d', cmap='Blues', xticklabels=target_le.classes_, yticklabels=target_le.classes_)\n",
    "plt.xlabel(\"Predicted\")\n",
    "plt.ylabel(\"True\")\n",
    "plt.title(\"Confusion Matrix\")\n",
    "plt.show()"
   ]
  },
  {
   "cell_type": "code",
   "execution_count": 15,
   "id": "dc382fab",
   "metadata": {},
   "outputs": [
    {
     "data": {
      "image/png": "[encoded data removed]",
      "text/plain": [
       "<Figure size 640x480 with 1 Axes>"
      ]
     },
     "metadata": {},
     "output_type": "display_data"
    }
   ],
   "source": [
    "# Feature importance plot\n",
    "importances = final_model.feature_importances_\n",
    "top_idx = importances.argsort()[-20:][::-1]\n",
    "top_features = X.columns[top_idx]\n",
    "\n",
    "sns.barplot(x=importances[top_idx], y=top_features)\n",
    "plt.title(\"Top 20 Feature Importances\")\n",
    "plt.show()"
   ]
  }
 ],
 "metadata": {
  "kernelspec": {
   "display_name": ".venv311",
   "language": "python",
   "name": "python3"
  },
  "language_info": {
   "codemirror_mode": {
    "name": "ipython",
    "version": 3
   },
   "file_extension": ".py",
   "mimetype": "text/x-python",
   "name": "python",
   "nbconvert_exporter": "python",
   "pygments_lexer": "ipython3",
   "version": "3.11.0"
  }
 },
 "nbformat": 4,
 "nbformat_minor": 5
}
